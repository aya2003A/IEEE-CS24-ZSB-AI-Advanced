{
 "cells": [
  {
   "cell_type": "markdown",
   "id": "b4ae5707-109f-4cd6-8168-88cac0179d6b",
   "metadata": {},
   "source": [
    "\n",
    "A DVD rental company needs your help! They want to figure out how many days a customer will rent a DVD for based on some features and has approached you for help. They want you to try out some regression models which will help predict the number of days a customer will rent a DVD for. The company wants a model which yeilds a MSE of 3 or less on a test set. The model you make will help the company become more efficient inventory planning.\n",
    "\n",
    "The data they provided is in the csv file `rental_info.csv`. It has the following features:\n",
    "- `\"rental_date\"`: The date (and time) the customer rents the DVD.\n",
    "- `\"return_date\"`: The date (and time) the customer returns the DVD.\n",
    "- `\"amount\"`: The amount paid by the customer for renting the DVD.\n",
    "- `\"amount_2\"`: The square of `\"amount\"`.\n",
    "- `\"rental_rate\"`: The rate at which the DVD is rented for.\n",
    "- `\"rental_rate_2\"`: The square of `\"rental_rate\"`.\n",
    "- `\"release_year\"`: The year the movie being rented was released.\n",
    "- `\"length\"`: Lenght of the movie being rented, in minuites.\n",
    "- `\"length_2\"`: The square of `\"length\"`.\n",
    "- `\"replacement_cost\"`: The amount it will cost the company to replace the DVD.\n",
    "- `\"special_features\"`: Any special features, for example trailers/deleted scenes that the DVD also has.\n",
    "- `\"NC-17\"`, `\"PG\"`, `\"PG-13\"`, `\"R\"`: These columns are dummy variables of the rating of the movie. It takes the value 1 if the move is rated as the column name and 0 otherwise. For your convinience, the reference dummy has already been dropped."
   ]
  },
  {
   "cell_type": "code",
   "execution_count": 4,
   "id": "a7ede566-910a-445c-b11a-68d192ac8506",
   "metadata": {
    "executionCancelledAt": null,
    "executionTime": 11,
    "lastExecutedAt": 1707432864171,
    "lastScheduledRunId": null,
    "lastSuccessfullyExecutedCode": "import pandas as pd\nimport numpy as np\n\nfrom sklearn.model_selection import train_test_split\nfrom sklearn.metrics import mean_squared_error\n\n# Import any additional modules and start coding below"
   },
   "outputs": [
    {
     "data": {
      "text/html": [
       "<div>\n",
       "<style scoped>\n",
       "    .dataframe tbody tr th:only-of-type {\n",
       "        vertical-align: middle;\n",
       "    }\n",
       "\n",
       "    .dataframe tbody tr th {\n",
       "        vertical-align: top;\n",
       "    }\n",
       "\n",
       "    .dataframe thead th {\n",
       "        text-align: right;\n",
       "    }\n",
       "</style>\n",
       "<table border=\"1\" class=\"dataframe\">\n",
       "  <thead>\n",
       "    <tr style=\"text-align: right;\">\n",
       "      <th></th>\n",
       "      <th>rental_date</th>\n",
       "      <th>return_date</th>\n",
       "      <th>amount</th>\n",
       "      <th>release_year</th>\n",
       "      <th>rental_rate</th>\n",
       "      <th>length</th>\n",
       "      <th>replacement_cost</th>\n",
       "      <th>special_features</th>\n",
       "      <th>NC-17</th>\n",
       "      <th>PG</th>\n",
       "      <th>PG-13</th>\n",
       "      <th>R</th>\n",
       "      <th>amount_2</th>\n",
       "      <th>length_2</th>\n",
       "      <th>rental_rate_2</th>\n",
       "    </tr>\n",
       "  </thead>\n",
       "  <tbody>\n",
       "    <tr>\n",
       "      <th>0</th>\n",
       "      <td>2005-05-25 02:54:33+00:00</td>\n",
       "      <td>2005-05-28 23:40:33+00:00</td>\n",
       "      <td>2.99</td>\n",
       "      <td>2005.0</td>\n",
       "      <td>2.99</td>\n",
       "      <td>126.0</td>\n",
       "      <td>16.99</td>\n",
       "      <td>{Trailers,\"Behind the Scenes\"}</td>\n",
       "      <td>0</td>\n",
       "      <td>0</td>\n",
       "      <td>0</td>\n",
       "      <td>1</td>\n",
       "      <td>8.9401</td>\n",
       "      <td>15876.0</td>\n",
       "      <td>8.9401</td>\n",
       "    </tr>\n",
       "    <tr>\n",
       "      <th>1</th>\n",
       "      <td>2005-06-15 23:19:16+00:00</td>\n",
       "      <td>2005-06-18 19:24:16+00:00</td>\n",
       "      <td>2.99</td>\n",
       "      <td>2005.0</td>\n",
       "      <td>2.99</td>\n",
       "      <td>126.0</td>\n",
       "      <td>16.99</td>\n",
       "      <td>{Trailers,\"Behind the Scenes\"}</td>\n",
       "      <td>0</td>\n",
       "      <td>0</td>\n",
       "      <td>0</td>\n",
       "      <td>1</td>\n",
       "      <td>8.9401</td>\n",
       "      <td>15876.0</td>\n",
       "      <td>8.9401</td>\n",
       "    </tr>\n",
       "    <tr>\n",
       "      <th>2</th>\n",
       "      <td>2005-07-10 04:27:45+00:00</td>\n",
       "      <td>2005-07-17 10:11:45+00:00</td>\n",
       "      <td>2.99</td>\n",
       "      <td>2005.0</td>\n",
       "      <td>2.99</td>\n",
       "      <td>126.0</td>\n",
       "      <td>16.99</td>\n",
       "      <td>{Trailers,\"Behind the Scenes\"}</td>\n",
       "      <td>0</td>\n",
       "      <td>0</td>\n",
       "      <td>0</td>\n",
       "      <td>1</td>\n",
       "      <td>8.9401</td>\n",
       "      <td>15876.0</td>\n",
       "      <td>8.9401</td>\n",
       "    </tr>\n",
       "    <tr>\n",
       "      <th>3</th>\n",
       "      <td>2005-07-31 12:06:41+00:00</td>\n",
       "      <td>2005-08-02 14:30:41+00:00</td>\n",
       "      <td>2.99</td>\n",
       "      <td>2005.0</td>\n",
       "      <td>2.99</td>\n",
       "      <td>126.0</td>\n",
       "      <td>16.99</td>\n",
       "      <td>{Trailers,\"Behind the Scenes\"}</td>\n",
       "      <td>0</td>\n",
       "      <td>0</td>\n",
       "      <td>0</td>\n",
       "      <td>1</td>\n",
       "      <td>8.9401</td>\n",
       "      <td>15876.0</td>\n",
       "      <td>8.9401</td>\n",
       "    </tr>\n",
       "    <tr>\n",
       "      <th>4</th>\n",
       "      <td>2005-08-19 12:30:04+00:00</td>\n",
       "      <td>2005-08-23 13:35:04+00:00</td>\n",
       "      <td>2.99</td>\n",
       "      <td>2005.0</td>\n",
       "      <td>2.99</td>\n",
       "      <td>126.0</td>\n",
       "      <td>16.99</td>\n",
       "      <td>{Trailers,\"Behind the Scenes\"}</td>\n",
       "      <td>0</td>\n",
       "      <td>0</td>\n",
       "      <td>0</td>\n",
       "      <td>1</td>\n",
       "      <td>8.9401</td>\n",
       "      <td>15876.0</td>\n",
       "      <td>8.9401</td>\n",
       "    </tr>\n",
       "  </tbody>\n",
       "</table>\n",
       "</div>"
      ],
      "text/plain": [
       "                 rental_date                return_date  amount  release_year  \\\n",
       "0  2005-05-25 02:54:33+00:00  2005-05-28 23:40:33+00:00    2.99        2005.0   \n",
       "1  2005-06-15 23:19:16+00:00  2005-06-18 19:24:16+00:00    2.99        2005.0   \n",
       "2  2005-07-10 04:27:45+00:00  2005-07-17 10:11:45+00:00    2.99        2005.0   \n",
       "3  2005-07-31 12:06:41+00:00  2005-08-02 14:30:41+00:00    2.99        2005.0   \n",
       "4  2005-08-19 12:30:04+00:00  2005-08-23 13:35:04+00:00    2.99        2005.0   \n",
       "\n",
       "   rental_rate  length  replacement_cost                special_features  \\\n",
       "0         2.99   126.0             16.99  {Trailers,\"Behind the Scenes\"}   \n",
       "1         2.99   126.0             16.99  {Trailers,\"Behind the Scenes\"}   \n",
       "2         2.99   126.0             16.99  {Trailers,\"Behind the Scenes\"}   \n",
       "3         2.99   126.0             16.99  {Trailers,\"Behind the Scenes\"}   \n",
       "4         2.99   126.0             16.99  {Trailers,\"Behind the Scenes\"}   \n",
       "\n",
       "   NC-17  PG  PG-13  R  amount_2  length_2  rental_rate_2  \n",
       "0      0   0      0  1    8.9401   15876.0         8.9401  \n",
       "1      0   0      0  1    8.9401   15876.0         8.9401  \n",
       "2      0   0      0  1    8.9401   15876.0         8.9401  \n",
       "3      0   0      0  1    8.9401   15876.0         8.9401  \n",
       "4      0   0      0  1    8.9401   15876.0         8.9401  "
      ]
     },
     "execution_count": 4,
     "metadata": {},
     "output_type": "execute_result"
    }
   ],
   "source": [
    "import pandas as pd\n",
    "import numpy as np\n",
    "\n",
    "data=pd.read_csv('rental_info.csv')\n",
    "pd.set_option('display.max_columns', 20)\n",
    "data.head()"
   ]
  },
  {
   "cell_type": "code",
   "execution_count": 5,
   "id": "9bb82726",
   "metadata": {},
   "outputs": [
    {
     "data": {
      "text/html": [
       "<div>\n",
       "<style scoped>\n",
       "    .dataframe tbody tr th:only-of-type {\n",
       "        vertical-align: middle;\n",
       "    }\n",
       "\n",
       "    .dataframe tbody tr th {\n",
       "        vertical-align: top;\n",
       "    }\n",
       "\n",
       "    .dataframe thead th {\n",
       "        text-align: right;\n",
       "    }\n",
       "</style>\n",
       "<table border=\"1\" class=\"dataframe\">\n",
       "  <thead>\n",
       "    <tr style=\"text-align: right;\">\n",
       "      <th></th>\n",
       "      <th>rental_date</th>\n",
       "      <th>return_date</th>\n",
       "      <th>amount</th>\n",
       "      <th>release_year</th>\n",
       "      <th>rental_rate</th>\n",
       "      <th>length</th>\n",
       "      <th>replacement_cost</th>\n",
       "      <th>special_features</th>\n",
       "      <th>NC-17</th>\n",
       "      <th>PG</th>\n",
       "      <th>PG-13</th>\n",
       "      <th>R</th>\n",
       "      <th>amount_2</th>\n",
       "      <th>length_2</th>\n",
       "      <th>rental_rate_2</th>\n",
       "      <th>rental_duration</th>\n",
       "    </tr>\n",
       "  </thead>\n",
       "  <tbody>\n",
       "    <tr>\n",
       "      <th>0</th>\n",
       "      <td>2005-05-25 02:54:33+00:00</td>\n",
       "      <td>2005-05-28 23:40:33+00:00</td>\n",
       "      <td>2.99</td>\n",
       "      <td>2005.0</td>\n",
       "      <td>2.99</td>\n",
       "      <td>126.0</td>\n",
       "      <td>16.99</td>\n",
       "      <td>{Trailers,\"Behind the Scenes\"}</td>\n",
       "      <td>0</td>\n",
       "      <td>0</td>\n",
       "      <td>0</td>\n",
       "      <td>1</td>\n",
       "      <td>8.9401</td>\n",
       "      <td>15876.0</td>\n",
       "      <td>8.9401</td>\n",
       "      <td>3</td>\n",
       "    </tr>\n",
       "    <tr>\n",
       "      <th>1</th>\n",
       "      <td>2005-06-15 23:19:16+00:00</td>\n",
       "      <td>2005-06-18 19:24:16+00:00</td>\n",
       "      <td>2.99</td>\n",
       "      <td>2005.0</td>\n",
       "      <td>2.99</td>\n",
       "      <td>126.0</td>\n",
       "      <td>16.99</td>\n",
       "      <td>{Trailers,\"Behind the Scenes\"}</td>\n",
       "      <td>0</td>\n",
       "      <td>0</td>\n",
       "      <td>0</td>\n",
       "      <td>1</td>\n",
       "      <td>8.9401</td>\n",
       "      <td>15876.0</td>\n",
       "      <td>8.9401</td>\n",
       "      <td>2</td>\n",
       "    </tr>\n",
       "    <tr>\n",
       "      <th>2</th>\n",
       "      <td>2005-07-10 04:27:45+00:00</td>\n",
       "      <td>2005-07-17 10:11:45+00:00</td>\n",
       "      <td>2.99</td>\n",
       "      <td>2005.0</td>\n",
       "      <td>2.99</td>\n",
       "      <td>126.0</td>\n",
       "      <td>16.99</td>\n",
       "      <td>{Trailers,\"Behind the Scenes\"}</td>\n",
       "      <td>0</td>\n",
       "      <td>0</td>\n",
       "      <td>0</td>\n",
       "      <td>1</td>\n",
       "      <td>8.9401</td>\n",
       "      <td>15876.0</td>\n",
       "      <td>8.9401</td>\n",
       "      <td>7</td>\n",
       "    </tr>\n",
       "    <tr>\n",
       "      <th>3</th>\n",
       "      <td>2005-07-31 12:06:41+00:00</td>\n",
       "      <td>2005-08-02 14:30:41+00:00</td>\n",
       "      <td>2.99</td>\n",
       "      <td>2005.0</td>\n",
       "      <td>2.99</td>\n",
       "      <td>126.0</td>\n",
       "      <td>16.99</td>\n",
       "      <td>{Trailers,\"Behind the Scenes\"}</td>\n",
       "      <td>0</td>\n",
       "      <td>0</td>\n",
       "      <td>0</td>\n",
       "      <td>1</td>\n",
       "      <td>8.9401</td>\n",
       "      <td>15876.0</td>\n",
       "      <td>8.9401</td>\n",
       "      <td>2</td>\n",
       "    </tr>\n",
       "    <tr>\n",
       "      <th>4</th>\n",
       "      <td>2005-08-19 12:30:04+00:00</td>\n",
       "      <td>2005-08-23 13:35:04+00:00</td>\n",
       "      <td>2.99</td>\n",
       "      <td>2005.0</td>\n",
       "      <td>2.99</td>\n",
       "      <td>126.0</td>\n",
       "      <td>16.99</td>\n",
       "      <td>{Trailers,\"Behind the Scenes\"}</td>\n",
       "      <td>0</td>\n",
       "      <td>0</td>\n",
       "      <td>0</td>\n",
       "      <td>1</td>\n",
       "      <td>8.9401</td>\n",
       "      <td>15876.0</td>\n",
       "      <td>8.9401</td>\n",
       "      <td>4</td>\n",
       "    </tr>\n",
       "    <tr>\n",
       "      <th>...</th>\n",
       "      <td>...</td>\n",
       "      <td>...</td>\n",
       "      <td>...</td>\n",
       "      <td>...</td>\n",
       "      <td>...</td>\n",
       "      <td>...</td>\n",
       "      <td>...</td>\n",
       "      <td>...</td>\n",
       "      <td>...</td>\n",
       "      <td>...</td>\n",
       "      <td>...</td>\n",
       "      <td>...</td>\n",
       "      <td>...</td>\n",
       "      <td>...</td>\n",
       "      <td>...</td>\n",
       "      <td>...</td>\n",
       "    </tr>\n",
       "    <tr>\n",
       "      <th>15856</th>\n",
       "      <td>2005-08-22 10:49:15+00:00</td>\n",
       "      <td>2005-08-29 09:52:15+00:00</td>\n",
       "      <td>6.99</td>\n",
       "      <td>2009.0</td>\n",
       "      <td>4.99</td>\n",
       "      <td>88.0</td>\n",
       "      <td>11.99</td>\n",
       "      <td>{Trailers,\"Deleted Scenes\",\"Behind the Scenes\"}</td>\n",
       "      <td>0</td>\n",
       "      <td>0</td>\n",
       "      <td>0</td>\n",
       "      <td>1</td>\n",
       "      <td>48.8601</td>\n",
       "      <td>7744.0</td>\n",
       "      <td>24.9001</td>\n",
       "      <td>6</td>\n",
       "    </tr>\n",
       "    <tr>\n",
       "      <th>15857</th>\n",
       "      <td>2005-07-31 09:48:49+00:00</td>\n",
       "      <td>2005-08-04 10:53:49+00:00</td>\n",
       "      <td>4.99</td>\n",
       "      <td>2009.0</td>\n",
       "      <td>4.99</td>\n",
       "      <td>88.0</td>\n",
       "      <td>11.99</td>\n",
       "      <td>{Trailers,\"Deleted Scenes\",\"Behind the Scenes\"}</td>\n",
       "      <td>0</td>\n",
       "      <td>0</td>\n",
       "      <td>0</td>\n",
       "      <td>1</td>\n",
       "      <td>24.9001</td>\n",
       "      <td>7744.0</td>\n",
       "      <td>24.9001</td>\n",
       "      <td>4</td>\n",
       "    </tr>\n",
       "    <tr>\n",
       "      <th>15858</th>\n",
       "      <td>2005-08-20 10:35:30+00:00</td>\n",
       "      <td>2005-08-29 13:03:30+00:00</td>\n",
       "      <td>8.99</td>\n",
       "      <td>2009.0</td>\n",
       "      <td>4.99</td>\n",
       "      <td>88.0</td>\n",
       "      <td>11.99</td>\n",
       "      <td>{Trailers,\"Deleted Scenes\",\"Behind the Scenes\"}</td>\n",
       "      <td>0</td>\n",
       "      <td>0</td>\n",
       "      <td>0</td>\n",
       "      <td>1</td>\n",
       "      <td>80.8201</td>\n",
       "      <td>7744.0</td>\n",
       "      <td>24.9001</td>\n",
       "      <td>9</td>\n",
       "    </tr>\n",
       "    <tr>\n",
       "      <th>15859</th>\n",
       "      <td>2005-07-31 13:10:20+00:00</td>\n",
       "      <td>2005-08-08 14:07:20+00:00</td>\n",
       "      <td>7.99</td>\n",
       "      <td>2009.0</td>\n",
       "      <td>4.99</td>\n",
       "      <td>88.0</td>\n",
       "      <td>11.99</td>\n",
       "      <td>{Trailers,\"Deleted Scenes\",\"Behind the Scenes\"}</td>\n",
       "      <td>0</td>\n",
       "      <td>0</td>\n",
       "      <td>0</td>\n",
       "      <td>1</td>\n",
       "      <td>63.8401</td>\n",
       "      <td>7744.0</td>\n",
       "      <td>24.9001</td>\n",
       "      <td>8</td>\n",
       "    </tr>\n",
       "    <tr>\n",
       "      <th>15860</th>\n",
       "      <td>2005-08-18 06:33:55+00:00</td>\n",
       "      <td>2005-08-24 07:14:55+00:00</td>\n",
       "      <td>5.99</td>\n",
       "      <td>2009.0</td>\n",
       "      <td>4.99</td>\n",
       "      <td>88.0</td>\n",
       "      <td>11.99</td>\n",
       "      <td>{Trailers,\"Deleted Scenes\",\"Behind the Scenes\"}</td>\n",
       "      <td>0</td>\n",
       "      <td>0</td>\n",
       "      <td>0</td>\n",
       "      <td>1</td>\n",
       "      <td>35.8801</td>\n",
       "      <td>7744.0</td>\n",
       "      <td>24.9001</td>\n",
       "      <td>6</td>\n",
       "    </tr>\n",
       "  </tbody>\n",
       "</table>\n",
       "<p>15861 rows × 16 columns</p>\n",
       "</div>"
      ],
      "text/plain": [
       "                    rental_date               return_date  amount  \\\n",
       "0     2005-05-25 02:54:33+00:00 2005-05-28 23:40:33+00:00    2.99   \n",
       "1     2005-06-15 23:19:16+00:00 2005-06-18 19:24:16+00:00    2.99   \n",
       "2     2005-07-10 04:27:45+00:00 2005-07-17 10:11:45+00:00    2.99   \n",
       "3     2005-07-31 12:06:41+00:00 2005-08-02 14:30:41+00:00    2.99   \n",
       "4     2005-08-19 12:30:04+00:00 2005-08-23 13:35:04+00:00    2.99   \n",
       "...                         ...                       ...     ...   \n",
       "15856 2005-08-22 10:49:15+00:00 2005-08-29 09:52:15+00:00    6.99   \n",
       "15857 2005-07-31 09:48:49+00:00 2005-08-04 10:53:49+00:00    4.99   \n",
       "15858 2005-08-20 10:35:30+00:00 2005-08-29 13:03:30+00:00    8.99   \n",
       "15859 2005-07-31 13:10:20+00:00 2005-08-08 14:07:20+00:00    7.99   \n",
       "15860 2005-08-18 06:33:55+00:00 2005-08-24 07:14:55+00:00    5.99   \n",
       "\n",
       "       release_year  rental_rate  length  replacement_cost  \\\n",
       "0            2005.0         2.99   126.0             16.99   \n",
       "1            2005.0         2.99   126.0             16.99   \n",
       "2            2005.0         2.99   126.0             16.99   \n",
       "3            2005.0         2.99   126.0             16.99   \n",
       "4            2005.0         2.99   126.0             16.99   \n",
       "...             ...          ...     ...               ...   \n",
       "15856        2009.0         4.99    88.0             11.99   \n",
       "15857        2009.0         4.99    88.0             11.99   \n",
       "15858        2009.0         4.99    88.0             11.99   \n",
       "15859        2009.0         4.99    88.0             11.99   \n",
       "15860        2009.0         4.99    88.0             11.99   \n",
       "\n",
       "                                      special_features  NC-17  PG  PG-13  R  \\\n",
       "0                       {Trailers,\"Behind the Scenes\"}      0   0      0  1   \n",
       "1                       {Trailers,\"Behind the Scenes\"}      0   0      0  1   \n",
       "2                       {Trailers,\"Behind the Scenes\"}      0   0      0  1   \n",
       "3                       {Trailers,\"Behind the Scenes\"}      0   0      0  1   \n",
       "4                       {Trailers,\"Behind the Scenes\"}      0   0      0  1   \n",
       "...                                                ...    ...  ..    ... ..   \n",
       "15856  {Trailers,\"Deleted Scenes\",\"Behind the Scenes\"}      0   0      0  1   \n",
       "15857  {Trailers,\"Deleted Scenes\",\"Behind the Scenes\"}      0   0      0  1   \n",
       "15858  {Trailers,\"Deleted Scenes\",\"Behind the Scenes\"}      0   0      0  1   \n",
       "15859  {Trailers,\"Deleted Scenes\",\"Behind the Scenes\"}      0   0      0  1   \n",
       "15860  {Trailers,\"Deleted Scenes\",\"Behind the Scenes\"}      0   0      0  1   \n",
       "\n",
       "       amount_2  length_2  rental_rate_2  rental_duration  \n",
       "0        8.9401   15876.0         8.9401                3  \n",
       "1        8.9401   15876.0         8.9401                2  \n",
       "2        8.9401   15876.0         8.9401                7  \n",
       "3        8.9401   15876.0         8.9401                2  \n",
       "4        8.9401   15876.0         8.9401                4  \n",
       "...         ...       ...            ...              ...  \n",
       "15856   48.8601    7744.0        24.9001                6  \n",
       "15857   24.9001    7744.0        24.9001                4  \n",
       "15858   80.8201    7744.0        24.9001                9  \n",
       "15859   63.8401    7744.0        24.9001                8  \n",
       "15860   35.8801    7744.0        24.9001                6  \n",
       "\n",
       "[15861 rows x 16 columns]"
      ]
     },
     "execution_count": 5,
     "metadata": {},
     "output_type": "execute_result"
    }
   ],
   "source": [
    "data['rental_date'] = pd.to_datetime(data['rental_date'])\n",
    "data['return_date'] = pd.to_datetime(data['return_date'])\n",
    "data['rental_duration'] = (data['return_date'] - data['rental_date']).dt.days\n",
    "data"
   ]
  },
  {
   "cell_type": "code",
   "execution_count": 6,
   "id": "656b630f",
   "metadata": {},
   "outputs": [
    {
     "data": {
      "text/plain": [
       "rental_date         15861\n",
       "return_date         15861\n",
       "amount              15861\n",
       "release_year        15861\n",
       "rental_rate         15861\n",
       "length              15861\n",
       "replacement_cost    15861\n",
       "special_features    15861\n",
       "NC-17               15861\n",
       "PG                  15861\n",
       "PG-13               15861\n",
       "R                   15861\n",
       "amount_2            15861\n",
       "length_2            15861\n",
       "rental_rate_2       15861\n",
       "rental_duration     15861\n",
       "dtype: int64"
      ]
     },
     "execution_count": 6,
     "metadata": {},
     "output_type": "execute_result"
    }
   ],
   "source": [
    "data.isnull().count()"
   ]
  },
  {
   "cell_type": "code",
   "execution_count": 7,
   "id": "eaa37b12",
   "metadata": {},
   "outputs": [
    {
     "data": {
      "text/plain": [
       "0        False\n",
       "1        False\n",
       "2        False\n",
       "3        False\n",
       "4        False\n",
       "         ...  \n",
       "15856    False\n",
       "15857    False\n",
       "15858    False\n",
       "15859    False\n",
       "15860    False\n",
       "Length: 15861, dtype: bool"
      ]
     },
     "execution_count": 7,
     "metadata": {},
     "output_type": "execute_result"
    }
   ],
   "source": [
    "data.duplicated()"
   ]
  },
  {
   "cell_type": "code",
   "execution_count": 8,
   "id": "a85d59c4",
   "metadata": {},
   "outputs": [],
   "source": [
    "X = data.drop(['rental_duration','rental_date','return_date','amount_2','length_2','rental_rate_2'], axis=1).values\n",
    "y = data['rental_duration'].values"
   ]
  },
  {
   "cell_type": "code",
   "execution_count": 9,
   "id": "2a81cc6a",
   "metadata": {},
   "outputs": [
    {
     "data": {
      "text/plain": [
       "array([[2.99, 2005.0, 2.99, ..., 0, 0, 1],\n",
       "       [2.99, 2005.0, 2.99, ..., 0, 0, 1],\n",
       "       [2.99, 2005.0, 2.99, ..., 0, 0, 1],\n",
       "       ...,\n",
       "       [8.99, 2009.0, 4.99, ..., 0, 0, 1],\n",
       "       [7.99, 2009.0, 4.99, ..., 0, 0, 1],\n",
       "       [5.99, 2009.0, 4.99, ..., 0, 0, 1]], dtype=object)"
      ]
     },
     "execution_count": 9,
     "metadata": {},
     "output_type": "execute_result"
    }
   ],
   "source": [
    "X"
   ]
  },
  {
   "cell_type": "code",
   "execution_count": 10,
   "id": "58423dda",
   "metadata": {},
   "outputs": [
    {
     "data": {
      "text/plain": [
       "array([3, 2, 7, ..., 9, 8, 6], dtype=int64)"
      ]
     },
     "execution_count": 10,
     "metadata": {},
     "output_type": "execute_result"
    }
   ],
   "source": [
    "y"
   ]
  },
  {
   "cell_type": "code",
   "execution_count": 20,
   "id": "bd4aeb8b",
   "metadata": {},
   "outputs": [],
   "source": [
    "from sklearn.preprocessing import LabelEncoder\n",
    "le = LabelEncoder()\n",
    "X[:,5] = le.fit_transform(X[:,5] )"
   ]
  },
  {
   "cell_type": "code",
   "execution_count": 12,
   "id": "1a7a2dc2",
   "metadata": {},
   "outputs": [],
   "source": [
    "from sklearn.model_selection import train_test_split\n",
    "X_train, X_test, y_train, y_test = train_test_split(X, y, test_size=0.2, random_state=42)"
   ]
  },
  {
   "cell_type": "code",
   "execution_count": 13,
   "id": "e73c15c9",
   "metadata": {},
   "outputs": [
    {
     "name": "stdout",
     "output_type": "stream",
     "text": [
      "Trainig Data..\n",
      "The shape of training features:  (12688, 10)\n",
      "The shape of training labels:  (12688,)\n",
      "Testing Data..\n",
      "The shape of testing features:  (3173, 10)\n",
      "The shape of testing labels:  (3173,)\n"
     ]
    }
   ],
   "source": [
    "print(\"Trainig Data..\")\n",
    "print(\"The shape of training features: \", X_train.shape)\n",
    "print(\"The shape of training labels: \", y_train.shape)\n",
    "print(\"Testing Data..\")\n",
    "print(\"The shape of testing features: \", X_test.shape)\n",
    "print(\"The shape of testing labels: \", y_test.shape)"
   ]
  },
  {
   "cell_type": "code",
   "execution_count": 14,
   "id": "bb7ba9c7",
   "metadata": {},
   "outputs": [
    {
     "name": "stdout",
     "output_type": "stream",
     "text": [
      "The Training Accuracy =  59.0 %\n"
     ]
    }
   ],
   "source": [
    "from sklearn.linear_model import LinearRegression\n",
    "from sklearn.metrics import mean_squared_error\n",
    "model = LinearRegression()\n",
    "model.fit(X_train, y_train)\n",
    "y_pred = model.predict(X_train)\n",
    "training_acc = np.ceil(model.score(X_train, y_train) * 100)\n",
    "print(\"The Training Accuracy = \", training_acc, \"%\")"
   ]
  },
  {
   "cell_type": "code",
   "execution_count": 15,
   "id": "5e1e9e69",
   "metadata": {},
   "outputs": [
    {
     "name": "stdout",
     "output_type": "stream",
     "text": [
      "The Testing Accuracy =  57.0 %\n"
     ]
    }
   ],
   "source": [
    "model.fit(X_test, y_test)\n",
    "y_pred = model.predict(X_test)\n",
    "testing_acc = np.ceil(model.score(X_test, y_test) * 100)\n",
    "print(\"The Testing Accuracy = \", testing_acc, \"%\")"
   ]
  },
  {
   "cell_type": "code",
   "execution_count": 16,
   "id": "d6252b61",
   "metadata": {},
   "outputs": [
    {
     "name": "stdout",
     "output_type": "stream",
     "text": [
      "[ 1.17688831e+00  2.02674251e-02 -1.17624776e+00  1.63440282e-03\n",
      " -3.81089496e-04 -7.37592949e-03  3.46178277e-01  1.13337694e-01\n",
      "  3.42810999e-01  9.64095472e-02]\n",
      "-37.92521047871047\n"
     ]
    }
   ],
   "source": [
    "print(model.coef_)\n",
    "print(model.intercept_)"
   ]
  },
  {
   "cell_type": "code",
   "execution_count": 17,
   "id": "116321e0",
   "metadata": {},
   "outputs": [
    {
     "name": "stdout",
     "output_type": "stream",
     "text": [
      "Mean absolute error = 1.44\n",
      "Mean squared error = 2.97\n",
      "Explain variance score = 0.57\n",
      "R2 score = 0.57\n"
     ]
    }
   ],
   "source": [
    "import sklearn.metrics as sm\n",
    "print(\"Mean absolute error =\", round(sm.mean_absolute_error(y_test, y_pred), 2)) \n",
    "print(\"Mean squared error =\", round(sm.mean_squared_error(y_test, y_pred), 2)) \n",
    "print(\"Explain variance score =\", round(sm.explained_variance_score(y_test, y_pred), 2)) \n",
    "print(\"R2 score =\", round(sm.r2_score(y_test, y_pred), 2))"
   ]
  },
  {
   "cell_type": "code",
   "execution_count": 26,
   "id": "07acf805",
   "metadata": {},
   "outputs": [
    {
     "name": "stdout",
     "output_type": "stream",
     "text": [
      "The Training Accuracy =  70.0 %\n"
     ]
    }
   ],
   "source": [
    "from sklearn.preprocessing import PolynomialFeatures\n",
    "poly = PolynomialFeatures(degree=4)\n",
    "X_train_poly = poly.fit_transform(X_train)\n",
    "\n",
    "poly_model = LinearRegression()\n",
    "poly_model.fit(X_train_poly, y_train)\n",
    "\n",
    "y_pred_train = poly_model.predict(X_train_poly)\n",
    "\n",
    "training_acc = np.ceil(poly_model.score(X_train_poly, y_train) * 100)\n",
    "print(\"The Training Accuracy = \", training_acc, \"%\")"
   ]
  },
  {
   "cell_type": "code",
   "execution_count": 27,
   "id": "d0b8d909",
   "metadata": {},
   "outputs": [
    {
     "name": "stdout",
     "output_type": "stream",
     "text": [
      "The Testing Accuracy =  73.0 %\n"
     ]
    }
   ],
   "source": [
    "poly = PolynomialFeatures(degree=4)\n",
    "X_test_poly = poly.fit_transform(X_test)\n",
    "\n",
    "poly_model = LinearRegression()\n",
    "poly_model.fit(X_test_poly, y_test)\n",
    "\n",
    "y_pred_test = poly_model.predict(X_test_poly)\n",
    "\n",
    "test_acc = np.ceil(poly_model.score(X_test_poly, y_test) * 100)\n",
    "print(\"The Testing Accuracy = \", test_acc, \"%\")"
   ]
  }
 ],
 "metadata": {
  "colab": {
   "name": "Welcome to DataCamp Workspaces.ipynb",
   "provenance": []
  },
  "kernelspec": {
   "display_name": "Python 3 (ipykernel)",
   "language": "python",
   "name": "python3"
  },
  "language_info": {
   "codemirror_mode": {
    "name": "ipython",
    "version": 3
   },
   "file_extension": ".py",
   "mimetype": "text/x-python",
   "name": "python",
   "nbconvert_exporter": "python",
   "pygments_lexer": "ipython3",
   "version": "3.9.13"
  }
 },
 "nbformat": 4,
 "nbformat_minor": 5
}
